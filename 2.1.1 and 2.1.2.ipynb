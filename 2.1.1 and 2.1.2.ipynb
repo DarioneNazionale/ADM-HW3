{
 "cells": [
  {
   "cell_type": "markdown",
   "metadata": {},
   "source": [
    "# 2.1.1) Create your index!"
   ]
  },
  {
   "cell_type": "code",
   "execution_count": 20,
   "metadata": {},
   "outputs": [],
   "source": [
    "import csv\n",
    "f = open(\"Downloads/article_0.tsv\")\n",
    "tsvElements= list()\n",
    "with f as tsvfile:\n",
    "    reader = csv.reader(tsvfile, delimiter='\\t')\n",
    "    for row in reader:\n",
    "        data = str(row).split() #split string into a list\n",
    "        for temp in data:\n",
    "            tsvElements.append(temp)\n",
    "    \n",
    "\n",
    "vocabulary = dict([(x+1,y) for x,y in enumerate(sorted(set(tsvElements)))])"
   ]
  },
  {
   "cell_type": "code",
   "execution_count": 21,
   "metadata": {},
   "outputs": [],
   "source": [
    "indexDictionary = {}\n",
    "for i in range(len(vocabulary)):\n",
    "    indexDictionary[(i+1)]= []\n",
    "    "
   ]
  },
  {
   "cell_type": "code",
   "execution_count": 23,
   "metadata": {},
   "outputs": [
    {
     "data": {
      "text/plain": [
       "{1: '\"The',\n",
       " 2: \"'1901\\\\xa0(1901)',\",\n",
       " 3: \"'Edwin\",\n",
       " 4: \"'Love\",\n",
       " 5: \"'NA',\",\n",
       " 6: \"'NA']\",\n",
       " 7: \"'Silent',\",\n",
       " 8: \"'United\",\n",
       " 9: \"'https://en.wikipedia.org/wiki/Love_by_the_Light_of_the_Moon',\",\n",
       " 10: '1901',\n",
       " 11: '1902',\n",
       " 12: 'A',\n",
       " 13: 'Company.[1]',\n",
       " 14: 'Edison',\n",
       " 15: 'Edwin',\n",
       " 16: 'French',\n",
       " 17: 'Georges',\n",
       " 18: 'In',\n",
       " 19: 'It',\n",
       " 20: 'Light',\n",
       " 21: 'Manufacturing',\n",
       " 22: 'Moon',\n",
       " 23: \"Moon',\",\n",
       " 24: \"Méliès.',\",\n",
       " 25: \"Porter',\",\n",
       " 26: 'Porter,',\n",
       " 27: 'S.',\n",
       " 28: \"States',\",\n",
       " 29: 'The',\n",
       " 30: 'They',\n",
       " 31: 'Trip',\n",
       " 32: \"['Love\",\n",
       " 33: '[]',\n",
       " 34: 'a',\n",
       " 35: 'action',\n",
       " 36: 'and',\n",
       " 37: 'animation',\n",
       " 38: 'at',\n",
       " 39: 'because',\n",
       " 40: 'bench',\n",
       " 41: 'better.\",',\n",
       " 42: 'bigger.',\n",
       " 43: 'blocked,',\n",
       " 44: 'by',\n",
       " 45: 'causing',\n",
       " 46: 'couple',\n",
       " 47: 'down',\n",
       " 48: 'embrace,',\n",
       " 49: 'everything',\n",
       " 50: 'face',\n",
       " 51: 'fans',\n",
       " 52: 'fence',\n",
       " 53: 'fiction',\n",
       " 54: 'film',\n",
       " 55: 'frown.',\n",
       " 56: 'gets',\n",
       " 57: 'hangs',\n",
       " 58: 'has',\n",
       " 59: 'hat',\n",
       " 60: 'her',\n",
       " 61: 'him',\n",
       " 62: 'his',\n",
       " 63: 'in',\n",
       " 64: 'is',\n",
       " 65: 'last',\n",
       " 66: 'learn',\n",
       " 67: 'left',\n",
       " 68: 'live',\n",
       " 69: 'look',\n",
       " 70: 'man',\n",
       " 71: 'mixes',\n",
       " 72: 'moon',\n",
       " 73: \"moon's\",\n",
       " 74: 'moon,',\n",
       " 75: 'night.',\n",
       " 76: 'of',\n",
       " 77: 'on',\n",
       " 78: 'over',\n",
       " 79: 'painted',\n",
       " 80: 'park',\n",
       " 81: 'past',\n",
       " 82: 'perched',\n",
       " 83: 'predates',\n",
       " 84: 'produced',\n",
       " 85: 'railing',\n",
       " 86: 'scene,',\n",
       " 87: 'science',\n",
       " 88: 'see',\n",
       " 89: 'shoulder',\n",
       " 90: 'sit',\n",
       " 91: 'sky',\n",
       " 92: 'smile',\n",
       " 93: 'smiles.',\n",
       " 94: 'smiling',\n",
       " 95: 'the',\n",
       " 96: 'theme',\n",
       " 97: 'then',\n",
       " 98: 'to',\n",
       " 99: 'tree.',\n",
       " 100: 'up.',\n",
       " 101: 'view',\n",
       " 102: 'walking',\n",
       " 103: 'with',\n",
       " 104: 'woman',\n",
       " 105: 'young'}"
      ]
     },
     "execution_count": 23,
     "metadata": {},
     "output_type": "execute_result"
    }
   ],
   "source": [
    "vocabulary"
   ]
  },
  {
   "cell_type": "code",
   "execution_count": 24,
   "metadata": {},
   "outputs": [],
   "source": [
    "with open(\"Downloads/article_0.tsv\") as openfile:\n",
    "    for line in openfile:\n",
    "        for part in line.split():\n",
    "            for i in range(len(vocabulary)):\n",
    "                if vocabulary.get(i+1) in part:\n",
    "                    if 'article_0' not in indexDictionary.get(i+1):\n",
    "                        indexDictionary[i+1].append('article_0')\n",
    "        \n"
   ]
  },
  {
   "cell_type": "code",
   "execution_count": 25,
   "metadata": {},
   "outputs": [
    {
     "data": {
      "text/plain": [
       "{1: [],\n",
       " 2: [],\n",
       " 3: [],\n",
       " 4: [],\n",
       " 5: [],\n",
       " 6: [],\n",
       " 7: [],\n",
       " 8: [],\n",
       " 9: [],\n",
       " 10: ['article_0'],\n",
       " 11: ['article_0'],\n",
       " 12: ['article_0'],\n",
       " 13: ['article_0'],\n",
       " 14: ['article_0'],\n",
       " 15: ['article_0'],\n",
       " 16: ['article_0'],\n",
       " 17: ['article_0'],\n",
       " 18: ['article_0'],\n",
       " 19: ['article_0'],\n",
       " 20: ['article_0'],\n",
       " 21: ['article_0'],\n",
       " 22: ['article_0'],\n",
       " 23: [],\n",
       " 24: [],\n",
       " 25: [],\n",
       " 26: ['article_0'],\n",
       " 27: ['article_0'],\n",
       " 28: [],\n",
       " 29: ['article_0'],\n",
       " 30: ['article_0'],\n",
       " 31: ['article_0'],\n",
       " 32: [],\n",
       " 33: [],\n",
       " 34: ['article_0'],\n",
       " 35: ['article_0'],\n",
       " 36: ['article_0'],\n",
       " 37: ['article_0'],\n",
       " 38: ['article_0'],\n",
       " 39: ['article_0'],\n",
       " 40: ['article_0'],\n",
       " 41: [],\n",
       " 42: ['article_0'],\n",
       " 43: ['article_0'],\n",
       " 44: ['article_0'],\n",
       " 45: ['article_0'],\n",
       " 46: ['article_0'],\n",
       " 47: ['article_0'],\n",
       " 48: ['article_0'],\n",
       " 49: ['article_0'],\n",
       " 50: ['article_0'],\n",
       " 51: ['article_0'],\n",
       " 52: ['article_0'],\n",
       " 53: ['article_0'],\n",
       " 54: ['article_0'],\n",
       " 55: ['article_0'],\n",
       " 56: ['article_0'],\n",
       " 57: ['article_0'],\n",
       " 58: ['article_0'],\n",
       " 59: ['article_0'],\n",
       " 60: ['article_0'],\n",
       " 61: ['article_0'],\n",
       " 62: ['article_0'],\n",
       " 63: ['article_0'],\n",
       " 64: ['article_0'],\n",
       " 65: ['article_0'],\n",
       " 66: ['article_0'],\n",
       " 67: ['article_0'],\n",
       " 68: ['article_0'],\n",
       " 69: ['article_0'],\n",
       " 70: ['article_0'],\n",
       " 71: ['article_0'],\n",
       " 72: ['article_0'],\n",
       " 73: ['article_0'],\n",
       " 74: ['article_0'],\n",
       " 75: ['article_0'],\n",
       " 76: ['article_0'],\n",
       " 77: ['article_0'],\n",
       " 78: ['article_0'],\n",
       " 79: ['article_0'],\n",
       " 80: ['article_0'],\n",
       " 81: ['article_0'],\n",
       " 82: ['article_0'],\n",
       " 83: ['article_0'],\n",
       " 84: ['article_0'],\n",
       " 85: ['article_0'],\n",
       " 86: ['article_0'],\n",
       " 87: ['article_0'],\n",
       " 88: ['article_0'],\n",
       " 89: ['article_0'],\n",
       " 90: ['article_0'],\n",
       " 91: ['article_0'],\n",
       " 92: ['article_0'],\n",
       " 93: ['article_0'],\n",
       " 94: ['article_0'],\n",
       " 95: ['article_0'],\n",
       " 96: ['article_0'],\n",
       " 97: ['article_0'],\n",
       " 98: ['article_0'],\n",
       " 99: ['article_0'],\n",
       " 100: ['article_0'],\n",
       " 101: ['article_0'],\n",
       " 102: ['article_0'],\n",
       " 103: ['article_0'],\n",
       " 104: ['article_0'],\n",
       " 105: ['article_0']}"
      ]
     },
     "execution_count": 25,
     "metadata": {},
     "output_type": "execute_result"
    }
   ],
   "source": [
    "indexDictionary"
   ]
  },
  {
   "cell_type": "code",
   "execution_count": 28,
   "metadata": {},
   "outputs": [],
   "source": [
    "tfIdIndexDictionary = {}\n",
    "for i in range(len(indexDictionary)):\n",
    "    tfIdIndexDictionary[(i+1)]= []\n",
    "    \n",
    "for i in range(len(vocabulary)):\n",
    "    tfIdIndexDictionary[i+1].append(NEW LIST FOR ARTICLE NAME AND VALUE OF FTL)"
   ]
  },
  {
   "cell_type": "code",
   "execution_count": 39,
   "metadata": {},
   "outputs": [
    {
     "name": "stdout",
     "output_type": "stream",
     "text": [
      "[]\n",
      "[]\n",
      "[]\n",
      "[]\n",
      "[]\n",
      "[]\n",
      "[]\n",
      "[]\n",
      "[]\n",
      "['article_0']\n",
      "['article_0']\n",
      "['article_0']\n",
      "['article_0']\n",
      "['article_0']\n",
      "['article_0']\n",
      "['article_0']\n",
      "['article_0']\n",
      "['article_0']\n",
      "['article_0']\n",
      "['article_0']\n",
      "['article_0']\n",
      "['article_0']\n",
      "[]\n",
      "[]\n",
      "[]\n",
      "['article_0']\n",
      "['article_0']\n",
      "[]\n",
      "['article_0']\n",
      "['article_0']\n",
      "['article_0']\n",
      "[]\n",
      "[]\n",
      "['article_0']\n",
      "['article_0']\n",
      "['article_0']\n",
      "['article_0']\n",
      "['article_0']\n",
      "['article_0']\n",
      "['article_0']\n",
      "[]\n",
      "['article_0']\n",
      "['article_0']\n",
      "['article_0']\n",
      "['article_0']\n",
      "['article_0']\n",
      "['article_0']\n",
      "['article_0']\n",
      "['article_0']\n",
      "['article_0']\n",
      "['article_0']\n",
      "['article_0']\n",
      "['article_0']\n",
      "['article_0']\n",
      "['article_0']\n",
      "['article_0']\n",
      "['article_0']\n",
      "['article_0']\n",
      "['article_0']\n",
      "['article_0']\n",
      "['article_0']\n",
      "['article_0']\n",
      "['article_0']\n",
      "['article_0']\n",
      "['article_0']\n",
      "['article_0']\n",
      "['article_0']\n",
      "['article_0']\n",
      "['article_0']\n",
      "['article_0']\n",
      "['article_0']\n",
      "['article_0']\n",
      "['article_0']\n",
      "['article_0']\n",
      "['article_0']\n",
      "['article_0']\n",
      "['article_0']\n",
      "['article_0']\n",
      "['article_0']\n",
      "['article_0']\n",
      "['article_0']\n",
      "['article_0']\n",
      "['article_0']\n",
      "['article_0']\n",
      "['article_0']\n",
      "['article_0']\n",
      "['article_0']\n",
      "['article_0']\n",
      "['article_0']\n",
      "['article_0']\n",
      "['article_0']\n",
      "['article_0']\n",
      "['article_0']\n",
      "['article_0']\n",
      "['article_0']\n",
      "['article_0']\n",
      "['article_0']\n",
      "['article_0']\n",
      "['article_0']\n",
      "['article_0']\n",
      "['article_0']\n",
      "['article_0']\n",
      "['article_0']\n",
      "['article_0']\n",
      "['article_0']\n"
     ]
    }
   ],
   "source": [
    "for (key, value) in vocabulary.items():\n",
    "    for (k,v) in indexDictionary.items():\n",
    "        if key == k :\n",
    "            print(v)"
   ]
  },
  {
   "cell_type": "markdown",
   "metadata": {},
   "source": [
    "# 2.1.2) Execute the query"
   ]
  },
  {
   "cell_type": "code",
   "execution_count": 50,
   "metadata": {},
   "outputs": [
    {
     "name": "stdout",
     "output_type": "stream",
     "text": [
      "\"The by look\n"
     ]
    }
   ],
   "source": [
    "import pandas as pd\n",
    "import csv\n",
    "search = input() #taken search elements from user"
   ]
  },
  {
   "cell_type": "code",
   "execution_count": 51,
   "metadata": {},
   "outputs": [
    {
     "name": "stdout",
     "output_type": "stream",
     "text": [
      "['\"The', 'by', 'look']\n"
     ]
    }
   ],
   "source": [
    "listOfsearchElements = search.split()\n",
    "listOfsearchElements = list(dict.fromkeys(listOfsearchElements)) #removing repeating elements in a list\n",
    "\n",
    "print(listOfsearchElements)"
   ]
  },
  {
   "cell_type": "code",
   "execution_count": 65,
   "metadata": {},
   "outputs": [],
   "source": [
    "keyList=[] \n",
    "resultlist = []\n",
    "\n",
    "for i in range(len(listOfsearchElements)):\n",
    "    for (key, value) in vocabulary.items():\n",
    "        if value == listOfsearchElements[i]: #check the search elements are in vocabulary dictionary , or not ?\n",
    "            keyList.append(key) #if they are exist in vocabulary dictionary , up them on keyList \n",
    "\n",
    "if(len(keyList) != len(listOfsearchElements)): # Being \"len of key isnt equal to len of search list\" mean is we cant research for all search element, so just quit to search\n",
    "    print(\"Opps! Sorry we can't find any film\")\n",
    "\n",
    "\n",
    "if(len(keyList) == len(listOfsearchElements)):\n",
    "    \n",
    "    for j in range(len(keyList)):\n",
    "        for (key, value) in indexDictionary.items():\n",
    "            if key == keyList[j]:\n",
    "                resultlist.append(value)\n",
    "                \n",
    "#compare for common articles\n",
    "result = set(resultlist[0])\n",
    "for s in resultlist[1:]:\n",
    "    result.intersection_update(s)\n",
    "\n",
    "result = list(result)\n",
    "for i in range(len(result)):\n",
    "   \n",
    "    fileNumber = 11\n",
    "    with open('MoviesTSV\\\\article_' + str(i) + '.tsv', encoding='utf8') as tsvfile:\n",
    "\n",
    "        reader = csv.reader(tsvfile, delimiter='\\t')\n",
    "\n",
    "        row = next(reader)\n",
    "\n",
    "        title = row[0]\n",
    "        intro = row[1]\n",
    "        url = row[4]\n",
    "\n",
    "        listOfTitle.append(title)\n",
    "        listOfIntro.append(intro)\n",
    "        listOfUrl.append(url)\n",
    "        movies_df = pd.DataFrame({'Title': listOfTitle, 'Intro': intro,'Url': url})\n",
    "        \n",
    "\n",
    "      "
   ]
  },
  {
   "cell_type": "code",
   "execution_count": 46,
   "metadata": {},
   "outputs": [
    {
     "data": {
      "text/plain": [
       "[44, 69]"
      ]
     },
     "execution_count": 46,
     "metadata": {},
     "output_type": "execute_result"
    }
   ],
   "source": [
    "keyList"
   ]
  },
  {
   "cell_type": "code",
   "execution_count": 53,
   "metadata": {},
   "outputs": [
    {
     "data": {
      "text/plain": [
       "[[], ['article_0'], ['article_0']]"
      ]
     },
     "execution_count": 53,
     "metadata": {},
     "output_type": "execute_result"
    }
   ],
   "source": [
    "resultlist\n"
   ]
  },
  {
   "cell_type": "code",
   "execution_count": 57,
   "metadata": {},
   "outputs": [
    {
     "name": "stdout",
     "output_type": "stream",
     "text": [
      "{1, 2, 6}\n"
     ]
    }
   ],
   "source": [
    "p=[ [1,2,3,6],\n",
    "    [1,2,9,6],\n",
    "      \n",
    "    [1,2,4,6] ]\n",
    "result = set(p[0])\n",
    "for s in p[1:]:\n",
    "    result.intersection_update(s)\n",
    "print(result)\n"
   ]
  },
  {
   "cell_type": "code",
   "execution_count": 58,
   "metadata": {},
   "outputs": [
    {
     "data": {
      "text/plain": [
       "3"
      ]
     },
     "execution_count": 58,
     "metadata": {},
     "output_type": "execute_result"
    }
   ],
   "source": [
    "len(result)"
   ]
  },
  {
   "cell_type": "code",
   "execution_count": 61,
   "metadata": {},
   "outputs": [
    {
     "ename": "AttributeError",
     "evalue": "'set' object has no attribute 'get'",
     "output_type": "error",
     "traceback": [
      "\u001b[1;31m---------------------------------------------------------------------------\u001b[0m",
      "\u001b[1;31mAttributeError\u001b[0m                            Traceback (most recent call last)",
      "\u001b[1;32m<ipython-input-61-198a005fdd2b>\u001b[0m in \u001b[0;36m<module>\u001b[1;34m\u001b[0m\n\u001b[1;32m----> 1\u001b[1;33m \u001b[0mresult\u001b[0m\u001b[1;33m.\u001b[0m\u001b[0mget\u001b[0m\u001b[1;33m(\u001b[0m\u001b[1;36m0\u001b[0m\u001b[1;33m)\u001b[0m\u001b[1;33m\u001b[0m\u001b[1;33m\u001b[0m\u001b[0m\n\u001b[0m",
      "\u001b[1;31mAttributeError\u001b[0m: 'set' object has no attribute 'get'"
     ]
    }
   ],
   "source": [
    "result.get(0)"
   ]
  },
  {
   "cell_type": "code",
   "execution_count": 79,
   "metadata": {},
   "outputs": [],
   "source": [
    "listOfTitle= []\n",
    "listOfIntro= []\n",
    "listOfUrl=[]\n",
    "import csv\n",
    "f = open(\"Downloads/article_0.tsv\")\n",
    "tsvElements= list()\n",
    "with f as tsvfile:\n",
    "    reader = csv.reader(tsvfile, delimiter='\\t')\n",
    "        \n",
    "    row = next(reader)\n",
    "    \n",
    "    title = row[0]\n",
    "    intro = row[1]\n",
    "    url = row[4]\n",
    "    \n",
    "    listOfTitle.append(title)\n",
    "    listOfIntro.append(intro)\n",
    "    listOfUrl.append(url)\n",
    "movies_df = pd.DataFrame(\n",
    "    {'Title': listOfTitle,\n",
    "     'Intro': intro,\n",
    "     'Url': url\n",
    "    })"
   ]
  },
  {
   "cell_type": "code",
   "execution_count": 80,
   "metadata": {},
   "outputs": [
    {
     "data": {
      "text/html": [
       "<div>\n",
       "<style scoped>\n",
       "    .dataframe tbody tr th:only-of-type {\n",
       "        vertical-align: middle;\n",
       "    }\n",
       "\n",
       "    .dataframe tbody tr th {\n",
       "        vertical-align: top;\n",
       "    }\n",
       "\n",
       "    .dataframe thead th {\n",
       "        text-align: right;\n",
       "    }\n",
       "</style>\n",
       "<table border=\"1\" class=\"dataframe\">\n",
       "  <thead>\n",
       "    <tr style=\"text-align: right;\">\n",
       "      <th></th>\n",
       "      <th>Title</th>\n",
       "      <th>Intro</th>\n",
       "      <th>lst3Title</th>\n",
       "    </tr>\n",
       "  </thead>\n",
       "  <tbody>\n",
       "    <tr>\n",
       "      <td>0</td>\n",
       "      <td>Love by the Light of the Moon</td>\n",
       "      <td>Love by the Light of the Moon</td>\n",
       "      <td>Love by the Light of the Moon</td>\n",
       "    </tr>\n",
       "  </tbody>\n",
       "</table>\n",
       "</div>"
      ],
      "text/plain": [
       "                           Title                          Intro  \\\n",
       "0  Love by the Light of the Moon  Love by the Light of the Moon   \n",
       "\n",
       "                       lst3Title  \n",
       "0  Love by the Light of the Moon  "
      ]
     },
     "execution_count": 80,
     "metadata": {},
     "output_type": "execute_result"
    }
   ],
   "source": [
    "percentile_list"
   ]
  },
  {
   "cell_type": "code",
   "execution_count": 71,
   "metadata": {},
   "outputs": [],
   "source": [
    "movies_df.index += 1"
   ]
  },
  {
   "cell_type": "code",
   "execution_count": 81,
   "metadata": {},
   "outputs": [
    {
     "data": {
      "text/plain": [
       "['Love by the Light of the Moon is a 1901 film by Edwin S. Porter, produced by the Edison Manufacturing Company.[1] It mixes animation and live action and predates the man in the moon theme of the 1902 French science fiction film A Trip to the Moon by Georges Méliès.']"
      ]
     },
     "execution_count": 81,
     "metadata": {},
     "output_type": "execute_result"
    }
   ],
   "source": [
    "listOfIntro"
   ]
  },
  {
   "cell_type": "code",
   "execution_count": 77,
   "metadata": {},
   "outputs": [],
   "source": [
    "percentile_list = "
   ]
  },
  {
   "cell_type": "code",
   "execution_count": 78,
   "metadata": {},
   "outputs": [
    {
     "data": {
      "text/html": [
       "<div>\n",
       "<style scoped>\n",
       "    .dataframe tbody tr th:only-of-type {\n",
       "        vertical-align: middle;\n",
       "    }\n",
       "\n",
       "    .dataframe tbody tr th {\n",
       "        vertical-align: top;\n",
       "    }\n",
       "\n",
       "    .dataframe thead th {\n",
       "        text-align: right;\n",
       "    }\n",
       "</style>\n",
       "<table border=\"1\" class=\"dataframe\">\n",
       "  <thead>\n",
       "    <tr style=\"text-align: right;\">\n",
       "      <th></th>\n",
       "      <th>Title</th>\n",
       "      <th>Intro</th>\n",
       "      <th>lst3Title</th>\n",
       "    </tr>\n",
       "  </thead>\n",
       "  <tbody>\n",
       "    <tr>\n",
       "      <td>0</td>\n",
       "      <td>Love by the Light of the Moon</td>\n",
       "      <td>Love by the Light of the Moon</td>\n",
       "      <td>Love by the Light of the Moon</td>\n",
       "    </tr>\n",
       "  </tbody>\n",
       "</table>\n",
       "</div>"
      ],
      "text/plain": [
       "                           Title                          Intro  \\\n",
       "0  Love by the Light of the Moon  Love by the Light of the Moon   \n",
       "\n",
       "                       lst3Title  \n",
       "0  Love by the Light of the Moon  "
      ]
     },
     "execution_count": 78,
     "metadata": {},
     "output_type": "execute_result"
    }
   ],
   "source": [
    "percentile_list"
   ]
  },
  {
   "cell_type": "code",
   "execution_count": null,
   "metadata": {},
   "outputs": [],
   "source": []
  }
 ],
 "metadata": {
  "kernelspec": {
   "display_name": "Python 3",
   "language": "python",
   "name": "python3"
  },
  "language_info": {
   "codemirror_mode": {
    "name": "ipython",
    "version": 3
   },
   "file_extension": ".py",
   "mimetype": "text/x-python",
   "name": "python",
   "nbconvert_exporter": "python",
   "pygments_lexer": "ipython3",
   "version": "3.7.4"
  }
 },
 "nbformat": 4,
 "nbformat_minor": 2
}
