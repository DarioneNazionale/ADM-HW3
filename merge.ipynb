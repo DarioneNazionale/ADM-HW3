{
 "cells": [
  {
   "cell_type": "markdown",
   "metadata": {},
   "source": [
    "## Merge scrypt \n",
    "For merge all files in one single folder \n",
    "\n",
    "#### Surce folders: Movies1, Movies2, Movies3\n",
    "#### Destination folder = Movies"
   ]
  },
  {
   "cell_type": "code",
   "execution_count": 17,
   "metadata": {},
   "outputs": [],
   "source": [
    "import os\n",
    "\n",
    "if not os.path.exists(\"Movies\\\\\"):\n",
    "    os.makedirs(\"Movies\\\\\")\n",
    "\n",
    "start = 0 #starting from file 0\n",
    "for folderNumber in range(1,4):\n",
    "    \n",
    "    fileNumber = 0 #starting from file 0\n",
    "    \n",
    "    while os.path.exists(\"Movies{}\\\\movie{}.html\".format(folderNumber, fileNumber)): #Iterating for each file in the surce\n",
    "        \n",
    "        #pushing the file in the Movies folder\n",
    "        os.rename(\"Movies{}\\\\movie{}.html\".format(folderNumber, fileNumber), \"Movies\\\\movie{}.html\".format(fileNumber + start))\n",
    "        \n",
    "        fileNumber += 1 #mooving to the next file\n",
    "    \n",
    "    start += fileNumber # for the next file we will stars where we left. \n",
    "\n",
    "print(\"moved \", start, \" flies in Movies.\")"
   ]
  }
 ],
 "metadata": {
  "kernelspec": {
   "display_name": "Python 3",
   "language": "python",
   "name": "python3"
  },
  "language_info": {
   "codemirror_mode": {
    "name": "ipython",
    "version": 3
   },
   "file_extension": ".py",
   "mimetype": "text/x-python",
   "name": "python",
   "nbconvert_exporter": "python",
   "pygments_lexer": "ipython3",
   "version": "3.7.4"
  }
 },
 "nbformat": 4,
 "nbformat_minor": 2
}
