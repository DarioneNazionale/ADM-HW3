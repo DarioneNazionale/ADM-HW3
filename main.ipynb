{
 "cells": [
  {
   "cell_type": "markdown",
   "metadata": {},
   "source": [
    "#### Just libraries "
   ]
  },
  {
   "cell_type": "code",
   "execution_count": 2,
   "metadata": {},
   "outputs": [],
   "source": [
    "from bs4 import BeautifulSoup\n",
    "import re"
   ]
  },
  {
   "cell_type": "markdown",
   "metadata": {},
   "source": [
    "## Reading from a single file\n",
    "This code will work only on one arbitrary file, it's isefull just for try if the code works or not."
   ]
  },
  {
   "cell_type": "code",
   "execution_count": 3,
   "metadata": {},
   "outputs": [],
   "source": [
    "with open(\"Movies\\\\movie0.html\", 'rb') as html:\n",
    "    soup = BeautifulSoup(html)"
   ]
  },
  {
   "cell_type": "code",
   "execution_count": 11,
   "metadata": {},
   "outputs": [
    {
     "name": "stdout",
     "output_type": "stream",
     "text": [
      "Title:  Love by the Light of the Moon \n",
      "\n",
      "Intro:  Love by the Light of the Moon is a 1901 film by Edwin S. Porter, produced by the Edison Manufacturing Company.[1] It mixes animation and live action and predates the man in the moon theme of the 1902 French science fiction film A Trip to the Moon by Georges Méliès. \n",
      "\n",
      "Plot:  The moon, painted with a smiling face hangs over a park at night. A young couple walking past a fence learn on a railing and look up. The moon smiles. They embrace, and the moon's smile gets bigger. They then sit down on a bench by a tree. The moon's view is blocked, causing him to frown. In the last scene, the man fans the woman with his hat because the moon has left the sky and is perched over her shoulder to see everything better. \n",
      "\n"
     ]
    }
   ],
   "source": [
    "title = soup.title.string.strip(\" - Wikipedia\") #taking the title, without the \" - Wikipedia\" last part.\n",
    "\n",
    "body = soup.body #put the soup body in a variable.\n",
    "paragraphNumber = 1 #a counter for know whitch paragraf are we working on \n",
    "for paragraph in body.find_all('p'): #iterating on the paragrafs \n",
    "    if(paragraphNumber == 1):#putting the first paragraf in the intro variable\n",
    "        intro = paragraph.text.strip() #using strip to delete space characters\n",
    "        paragraphNumber += 1\n",
    "    elif(paragraphNumber == 2):#putting the second paragraf in the plot variable\n",
    "        plot = paragraph.text.strip() #using strip to delete space characters\n",
    "        break #we don't need the other paragrafs\n",
    "\n",
    "\n",
    "#just printing for see some results:\n",
    "print (\"Title: \", title, \"\\n\")\n",
    "print (\"Intro: \", intro, \"\\n\")\n",
    "print (\"Plot: \", plot, \"\\n\")"
   ]
  },
  {
   "cell_type": "markdown",
   "metadata": {},
   "source": [
    "## writing in the file \n",
    "This code write a list of aguments pn the tsv file."
   ]
  },
  {
   "cell_type": "code",
   "execution_count": 12,
   "metadata": {},
   "outputs": [],
   "source": [
    "import csv\n",
    "with open('outputtest.tsv', 'wt') as out_file: #creating one file for each different movie \n",
    "    tsv_writer = csv.writer(out_file, delimiter='\\t')\n",
    "    tsv_writer.writerow([title, intro, plot]) #input to the tsv file."
   ]
  },
  {
   "cell_type": "markdown",
   "metadata": {},
   "source": [
    "## Reading from the files and witing the the others\n",
    "Here the code that should be able to iterate through all the files."
   ]
  },
  {
   "cell_type": "code",
   "execution_count": null,
   "metadata": {},
   "outputs": [],
   "source": [
    "\n",
    "fileNumber = 0\n",
    "while os.path.exists(\"Movies\\\\movie\" + fileNumber + \".html\"): #Iterating for each file \n",
    "    \n",
    "    #Parsing the html file:\n",
    "    with open(\"Movies\\\\movie\" + fileNumber + \".html\", 'rb') as html:\n",
    "        soup = BeautifulSoup(html)\n",
    "        \n",
    "    title = soup.title.string.strip(\" - Wikipedia\") #taking the title, without the \" - Wikipedia\" last part.\n",
    "\n",
    "    body = soup.body #put the soup body in a variable.\n",
    "    paragraphNumber = 1 #a counter for know whitch paragraf are we working on \n",
    "    for paragraph in body.find_all('p'): #iterating on the paragrafs \n",
    "        if(paragraphNumber == 1):#putting the first paragraf in the intro variable\n",
    "            intro = paragraph.text.strip() #using strip to delete space characters\n",
    "            paragraphNumber += 1\n",
    "        elif(paragraphNumber == 2):#putting the second paragraf in the plot variable\n",
    "            plot = paragraph.text.strip() #using strip to delete space characters\n",
    "            break #we don't need the other paragrafs\n",
    "    \n",
    "    \"\"\"we still must cover the case when the wikipedia page has less than two paragraphs, \n",
    "    and so ether plot or both intro and plot are not assigned.\"\"\"\n",
    "\n",
    "    \n",
    "    #writing the results in the tsv file \n",
    "    import csv\n",
    "    with open('article_' + fileNumber + '.tsv', 'wt') as out_file: #creating one file for each different movie \n",
    "        tsv_writer = csv.writer(out_file, delimiter='\\t')\n",
    "        tsv_writer.writerow([title, intro, plot]) #input to the tsv file.\n",
    "    \n",
    "    \"\"\"code for save on the file works.\"\"\"\n",
    "    \n",
    "    fileNumber += 1 #let's move to the next file!"
   ]
  }
 ],
 "metadata": {
  "kernelspec": {
   "display_name": "Python 3",
   "language": "python",
   "name": "python3"
  },
  "language_info": {
   "codemirror_mode": {
    "name": "ipython",
    "version": 3
   },
   "file_extension": ".py",
   "mimetype": "text/x-python",
   "name": "python",
   "nbconvert_exporter": "python",
   "pygments_lexer": "ipython3",
   "version": "3.7.3"
  }
 },
 "nbformat": 4,
 "nbformat_minor": 2
}
