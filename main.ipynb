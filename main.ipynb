{
 "cells": [
  {
   "cell_type": "markdown",
   "metadata": {},
   "source": [
    "#### Just libraries "
   ]
  },
  {
   "cell_type": "code",
   "execution_count": 2,
   "metadata": {},
   "outputs": [],
   "source": [
    "from bs4 import BeautifulSoup\n",
    "import re\n",
    "from collections import OrderedDict\n",
    "import csv\n",
    "import os"
   ]
  },
  {
   "cell_type": "markdown",
   "metadata": {},
   "source": [
    "## Reading from the files and witing the the others\n",
    "This code transforms html files to tsv files."
   ]
  },
  {
   "cell_type": "code",
   "execution_count": 6,
   "metadata": {},
   "outputs": [
    {
     "ename": "TypeError",
     "evalue": "'fieldnames' is an invalid keyword argument for this function",
     "output_type": "error",
     "traceback": [
      "\u001b[1;31m---------------------------------------------------------------------------\u001b[0m",
      "\u001b[1;31mTypeError\u001b[0m                                 Traceback (most recent call last)",
      "\u001b[1;32m<ipython-input-6-435f73e9a54d>\u001b[0m in \u001b[0;36m<module>\u001b[1;34m\u001b[0m\n\u001b[0;32m     65\u001b[0m     \u001b[1;31m#writing the results in the tsv file\u001b[0m\u001b[1;33m\u001b[0m\u001b[1;33m\u001b[0m\u001b[1;33m\u001b[0m\u001b[0m\n\u001b[0;32m     66\u001b[0m     \u001b[1;32mwith\u001b[0m \u001b[0mopen\u001b[0m\u001b[1;33m(\u001b[0m\u001b[1;34m'MoviesTSV\\\\article_'\u001b[0m \u001b[1;33m+\u001b[0m \u001b[0mstr\u001b[0m\u001b[1;33m(\u001b[0m\u001b[0mfileNumber\u001b[0m\u001b[1;33m)\u001b[0m \u001b[1;33m+\u001b[0m \u001b[1;34m'.tsv'\u001b[0m\u001b[1;33m,\u001b[0m \u001b[1;34m'wt'\u001b[0m\u001b[1;33m,\u001b[0m \u001b[0mencoding\u001b[0m \u001b[1;33m=\u001b[0m \u001b[1;34m'utf-8'\u001b[0m\u001b[1;33m)\u001b[0m \u001b[1;32mas\u001b[0m \u001b[0mout_file\u001b[0m\u001b[1;33m:\u001b[0m \u001b[1;31m#creating one file for each different movie\u001b[0m\u001b[1;33m\u001b[0m\u001b[1;33m\u001b[0m\u001b[0m\n\u001b[1;32m---> 67\u001b[1;33m         \u001b[0mtsv_writer\u001b[0m \u001b[1;33m=\u001b[0m \u001b[0mcsv\u001b[0m\u001b[1;33m.\u001b[0m\u001b[0mwriter\u001b[0m\u001b[1;33m(\u001b[0m\u001b[0mout_file\u001b[0m\u001b[1;33m,\u001b[0m \u001b[0mdelimiter\u001b[0m\u001b[1;33m=\u001b[0m\u001b[1;34m'\\t'\u001b[0m\u001b[1;33m,\u001b[0m \u001b[0mfieldnames\u001b[0m \u001b[1;33m=\u001b[0m \u001b[1;33m[\u001b[0m\u001b[1;34m\"title\"\u001b[0m\u001b[1;33m,\u001b[0m \u001b[1;34m\"intro\"\u001b[0m\u001b[1;33m,\u001b[0m \u001b[1;34m\"plot\"\u001b[0m\u001b[1;33m,\u001b[0m \u001b[1;34m\"link\"\u001b[0m\u001b[1;33m]\u001b[0m \u001b[1;33m+\u001b[0m \u001b[0mlist\u001b[0m\u001b[1;33m(\u001b[0m\u001b[0minfobox\u001b[0m\u001b[1;33m.\u001b[0m\u001b[0mkeys\u001b[0m\u001b[1;33m(\u001b[0m\u001b[1;33m)\u001b[0m\u001b[1;33m)\u001b[0m\u001b[1;33m)\u001b[0m\u001b[1;33m\u001b[0m\u001b[1;33m\u001b[0m\u001b[0m\n\u001b[0m\u001b[0;32m     68\u001b[0m         \u001b[0mtsv_writer\u001b[0m\u001b[1;33m.\u001b[0m\u001b[0mwriterow\u001b[0m\u001b[1;33m(\u001b[0m\u001b[1;33m[\u001b[0m\u001b[0mtitle\u001b[0m\u001b[1;33m,\u001b[0m \u001b[0mintro\u001b[0m\u001b[1;33m,\u001b[0m \u001b[0mplot\u001b[0m\u001b[1;33m,\u001b[0m \u001b[0mlink\u001b[0m\u001b[1;33m]\u001b[0m \u001b[1;33m+\u001b[0m \u001b[0mlist\u001b[0m\u001b[1;33m(\u001b[0m\u001b[0minfobox\u001b[0m\u001b[1;33m.\u001b[0m\u001b[0mvalues\u001b[0m\u001b[1;33m(\u001b[0m\u001b[1;33m)\u001b[0m\u001b[1;33m)\u001b[0m\u001b[1;33m)\u001b[0m \u001b[1;31m#input to the tsv file.\u001b[0m\u001b[1;33m\u001b[0m\u001b[1;33m\u001b[0m\u001b[0m\n\u001b[0;32m     69\u001b[0m     \u001b[1;31m#-------------------------- Writing on the file ----------------------------------------\u001b[0m\u001b[1;33m\u001b[0m\u001b[1;33m\u001b[0m\u001b[1;33m\u001b[0m\u001b[0m\n",
      "\u001b[1;31mTypeError\u001b[0m: 'fieldnames' is an invalid keyword argument for this function"
     ]
    }
   ],
   "source": [
    "fileNumber = 0 #starting from file 0\n",
    "while os.path.exists(\"Movies\\\\movie\" + str(fileNumber) + \".html\"): #Iterating for each file \n",
    "    \n",
    "    #Parsing the html file:\n",
    "    with open(\"Movies\\\\movie\" + str(fileNumber) + \".html\", 'rb') as html:\n",
    "        soup = BeautifulSoup(html)\n",
    "    \n",
    "    #initialysing variables as NA, so if the sections are missing the variable remains NA \n",
    "    title = \"NA\"\n",
    "    intro = \"NA\"\n",
    "    plot = \"NA\"\n",
    "    link = \"NA\"\n",
    "    infobox = OrderedDict() #we must put as key of the dict the keyword that we will find in the infobox of wikipedia:\n",
    "    infobox[\"name\"] = \"NA\"\n",
    "    infobox[\"Directed by\"] = \"NA\"\n",
    "    infobox[\"Produced by\"] = \"NA\"\n",
    "    infobox[\"Written by\"] = \"NA\"\n",
    "    infobox[\"Starring\"] = \"NA\"\n",
    "    infobox[\"Music by\"] = \"NA\"\n",
    "    infobox[\"Release date\"] = \"NA\"\n",
    "    infobox[\"Running time\"] = \"NA\"\n",
    "    infobox[\"Country\"] = \"NA\"\n",
    "    infobox[\"Language\"] = \"NA\"\n",
    "    infobox[\"Budget\"] = \"NA\"\n",
    "    \n",
    "    # we do fetch the infos only if the page is not a disambiguation page \n",
    "    if not soup.body.find('a', title=\"Help:Disambiguation\"):\n",
    "        #-------------------------- Title, Intro and Plot code ----------------------------------------\n",
    "        title = soup.title.string.strip(\" - Wikipedia\") #taking the title, without the \" - Wikipedia\" last part.\n",
    "\n",
    "        body = soup.body #put the soup body in a variable.\n",
    "        paragraphNumber = 1 #a counter for know whitch paragraf are we working on \n",
    "        for paragraph in body.find_all('p'): #iterating on the paragrafs \n",
    "            if(paragraphNumber == 1):#putting the first paragraf in the intro variable\n",
    "                intro = paragraph.text.strip() #using strip to delete space characters\n",
    "                paragraphNumber += 1\n",
    "            elif(paragraphNumber == 2):#putting the second paragraf in the plot variable\n",
    "                plot = paragraph.text.strip() #using strip to delete space characters\n",
    "                break #we don't need the other paragrafs\n",
    "\n",
    "        link = link = soup.find('link', rel='canonical')[\"href\"]\n",
    "        #-------------------------- Title, Intro and Plot code ----------------------------------------\n",
    "\n",
    "\n",
    "        #-------------------------- Infobox code ----------------------------------------\n",
    "        table = soup.find('table', class_='infobox vevent')\n",
    "\n",
    "        try:\n",
    "            infobox[\"name\"] = table.find('tr').text #let's search the infobox\n",
    "            for tr in table.find_all('tr'): #for each content in the infobox\n",
    "                for section in infobox.keys(): #check for each content that we need...\n",
    "                    try: \n",
    "                        if section == tr.find('th').text: #check if the current tr is the section that we wont\n",
    "                            infobox[section] = tr.find('td').text.strip() #if it is, save it in the infobox[section]\n",
    "                    except: pass #if it is an empty tag\n",
    "        except: pass #if the infobox is not in the page \n",
    "        #-------------------------- Infobox code ----------------------------------------\n",
    "\n",
    "    \n",
    "    #-------------------------- Writing on the file ----------------------------------------\n",
    "    #this lines create a new directory, Movies, in your project folder\n",
    "    if not os.path.exists(\"MoviesTSV\\\\\"):\n",
    "        os.makedirs(\"MoviesTSV\\\\\")\n",
    "    \n",
    "    #writing the results in the tsv file \n",
    "    with open('MoviesTSV\\\\article_' + str(fileNumber) + '.tsv', 'wt', encoding = 'utf-8') as out_file: #creating one file for each different movie \n",
    "        tsv_writer = csv.writer(out_file, delimiter='\\t', fieldnames = [\"title\", \"intro\", \"plot\", \"link\"] + list(infobox.keys()))\n",
    "        tsv_writer.writerow([title, intro, plot, link] + list(infobox.values())) #input to the tsv file.\n",
    "    #-------------------------- Writing on the file ----------------------------------------\n",
    "    \n",
    "    fileNumber += 1 #let's move to the next file!"
   ]
  },
  {
   "cell_type": "code",
   "execution_count": null,
   "metadata": {},
   "outputs": [],
   "source": []
  }
 ],
 "metadata": {
  "kernelspec": {
   "display_name": "Python 3",
   "language": "python",
   "name": "python3"
  },
  "language_info": {
   "codemirror_mode": {
    "name": "ipython",
    "version": 3
   },
   "file_extension": ".py",
   "mimetype": "text/x-python",
   "name": "python",
   "nbconvert_exporter": "python",
   "pygments_lexer": "ipython3",
   "version": "3.7.3"
  }
 },
 "nbformat": 4,
 "nbformat_minor": 2
}
