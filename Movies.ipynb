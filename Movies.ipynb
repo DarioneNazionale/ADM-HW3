{
 "cells": [
  {
   "cell_type": "code",
   "execution_count": null,
   "metadata": {},
   "outputs": [],
   "source": [
    "from bs4 import BeautifulSoup, SoupStrainer\n",
    "import requests\n",
    "\n",
    "#this three lines create a new directory, Movies, in your project folder\n",
    "import os\n",
    "if not os.path.exists(\"Movies\\\\\"):\n",
    "    os.makedirs(\"Movies\\\\\")\n",
    "\n",
    "\n",
    "url = \"https://raw.githubusercontent.com/CriMenghini/ADM/master/2019/Homework_3/data/movies1.html\"\n",
    "                                                                        #you should change this number\n",
    "page = requests.get(url)    \n",
    "data = page.text\n",
    "soup = BeautifulSoup(data)\n",
    "\n",
    "\n",
    "\n",
    "counter = 0\n",
    "for link in soup.find_all('a'):\n",
    "    \n",
    "    localurl= link.get('href')\n",
    "    r = requests.get(localurl) #fetching the html page \n",
    "    \n",
    "    \n",
    "    with open(\"Movies\\\\movie\" + str(counter) +\".html\", 'wb') as f: #creating a new file in the Movies folder \n",
    "        f.write(r.content) #put in this new file the html page of the movie\n",
    "    \n",
    "    counter += 1 #starting form 0 each different movie will take a different index"
   ]
  }
 ],
 "metadata": {
  "kernelspec": {
   "display_name": "Python 3",
   "language": "python",
   "name": "python3"
  },
  "language_info": {
   "codemirror_mode": {
    "name": "ipython",
    "version": 3
   },
   "file_extension": ".py",
   "mimetype": "text/x-python",
   "name": "python",
   "nbconvert_exporter": "python",
   "pygments_lexer": "ipython3",
   "version": "3.7.3"
  }
 },
 "nbformat": 4,
 "nbformat_minor": 2
}
